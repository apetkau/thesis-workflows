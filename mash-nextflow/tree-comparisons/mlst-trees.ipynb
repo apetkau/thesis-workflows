{
 "cells": [
  {
   "cell_type": "markdown",
   "metadata": {},
   "source": [
    "# Build MLST trees"
   ]
  },
  {
   "cell_type": "markdown",
   "metadata": {},
   "source": [
    "## 7-gene MLST"
   ]
  },
  {
   "cell_type": "code",
   "execution_count": 3,
   "metadata": {},
   "outputs": [
    {
     "name": "stdout",
     "output_type": "stream",
     "text": [
      "mlst 2.19.0\n",
      "\n"
     ]
    }
   ],
   "source": [
    "!conda run --prefix /home/CSCScience.ca/apetkau/miniconda3/envs/mlst mlst --version"
   ]
  },
  {
   "cell_type": "code",
   "execution_count": 12,
   "metadata": {},
   "outputs": [],
   "source": [
    "!conda run --prefix /home/CSCScience.ca/apetkau/miniconda3/envs/mlst \\\n",
    "mlst --nopath --scheme senterica --legacy ../assemblies/*.fasta > mlst-results.txt 2> /dev/null"
   ]
  },
  {
   "cell_type": "code",
   "execution_count": 13,
   "metadata": {},
   "outputs": [
    {
     "name": "stdout",
     "output_type": "stream",
     "text": [
      "FILE\tSCHEME\tST\taroC\tdnaN\themD\thisD\tpurE\tsucA\tthrA\n",
      "SH08-001.fasta\tsenterica\t15\t2\t7\t9\t9\t5\t9\t12\n",
      "SH09-29.fasta\tsenterica\t15\t2\t7\t9\t9\t5\t9\t12\n",
      "SH10-001.fasta\tsenterica\t15\t2\t7\t9\t9\t5\t9\t12\n",
      "SH10-002.fasta\tsenterica\t15\t2\t7\t9\t9\t5\t9\t12\n",
      "SH10-014.fasta\tsenterica\t15\t2\t7\t9\t9\t5\t9\t12\n",
      "SH10-015.fasta\tsenterica\t15\t2\t7\t9\t9\t5\t9\t12\n",
      "SH10-30.fasta\tsenterica\t15\t2\t7\t9\t9\t5\t9\t12\n",
      "SH11-001.fasta\tsenterica\t15\t2\t7\t9\t9\t5\t9\t12\n",
      "SH11-002.fasta\tsenterica\t15\t2\t7\t9\t9\t5\t9\t12\n"
     ]
    }
   ],
   "source": [
    "!head mlst-results.txt"
   ]
  },
  {
   "cell_type": "markdown",
   "metadata": {},
   "source": [
    "## Phylogenetic tree (neighbor-joining from hamming distances)"
   ]
  },
  {
   "cell_type": "code",
   "execution_count": 148,
   "metadata": {},
   "outputs": [
    {
     "data": {
      "text/html": [
       "<div>\n",
       "<style scoped>\n",
       "    .dataframe tbody tr th:only-of-type {\n",
       "        vertical-align: middle;\n",
       "    }\n",
       "\n",
       "    .dataframe tbody tr th {\n",
       "        vertical-align: top;\n",
       "    }\n",
       "\n",
       "    .dataframe thead th {\n",
       "        text-align: right;\n",
       "    }\n",
       "</style>\n",
       "<table border=\"1\" class=\"dataframe\">\n",
       "  <thead>\n",
       "    <tr style=\"text-align: right;\">\n",
       "      <th></th>\n",
       "      <th>aroC</th>\n",
       "      <th>dnaN</th>\n",
       "      <th>hemD</th>\n",
       "      <th>hisD</th>\n",
       "      <th>purE</th>\n",
       "      <th>sucA</th>\n",
       "      <th>thrA</th>\n",
       "    </tr>\n",
       "    <tr>\n",
       "      <th>FILE</th>\n",
       "      <th></th>\n",
       "      <th></th>\n",
       "      <th></th>\n",
       "      <th></th>\n",
       "      <th></th>\n",
       "      <th></th>\n",
       "      <th></th>\n",
       "    </tr>\n",
       "  </thead>\n",
       "  <tbody>\n",
       "    <tr>\n",
       "      <th>SH08-001</th>\n",
       "      <td>2</td>\n",
       "      <td>7</td>\n",
       "      <td>9</td>\n",
       "      <td>9</td>\n",
       "      <td>5</td>\n",
       "      <td>9</td>\n",
       "      <td>12</td>\n",
       "    </tr>\n",
       "    <tr>\n",
       "      <th>SH09-29</th>\n",
       "      <td>2</td>\n",
       "      <td>7</td>\n",
       "      <td>9</td>\n",
       "      <td>9</td>\n",
       "      <td>5</td>\n",
       "      <td>9</td>\n",
       "      <td>12</td>\n",
       "    </tr>\n",
       "    <tr>\n",
       "      <th>SH10-001</th>\n",
       "      <td>2</td>\n",
       "      <td>7</td>\n",
       "      <td>9</td>\n",
       "      <td>9</td>\n",
       "      <td>5</td>\n",
       "      <td>9</td>\n",
       "      <td>12</td>\n",
       "    </tr>\n",
       "    <tr>\n",
       "      <th>SH10-002</th>\n",
       "      <td>2</td>\n",
       "      <td>7</td>\n",
       "      <td>9</td>\n",
       "      <td>9</td>\n",
       "      <td>5</td>\n",
       "      <td>9</td>\n",
       "      <td>12</td>\n",
       "    </tr>\n",
       "    <tr>\n",
       "      <th>SH10-014</th>\n",
       "      <td>2</td>\n",
       "      <td>7</td>\n",
       "      <td>9</td>\n",
       "      <td>9</td>\n",
       "      <td>5</td>\n",
       "      <td>9</td>\n",
       "      <td>12</td>\n",
       "    </tr>\n",
       "  </tbody>\n",
       "</table>\n",
       "</div>"
      ],
      "text/plain": [
       "          aroC  dnaN  hemD  hisD  purE  sucA  thrA\n",
       "FILE                                              \n",
       "SH08-001     2     7     9     9     5     9    12\n",
       "SH09-29      2     7     9     9     5     9    12\n",
       "SH10-001     2     7     9     9     5     9    12\n",
       "SH10-002     2     7     9     9     5     9    12\n",
       "SH10-014     2     7     9     9     5     9    12"
      ]
     },
     "execution_count": 148,
     "metadata": {},
     "output_type": "execute_result"
    }
   ],
   "source": [
    "import pandas as pd\n",
    "import re\n",
    "\n",
    "mlst_df = pd.read_csv('mlst-results.txt', sep='\\t')\n",
    "mlst_df['FILE'] = mlst_df['FILE'].map(lambda x: x.rstrip('.fasta'))\n",
    "mlst_df = mlst_df.set_index('FILE').drop(['SCHEME', 'ST'], axis='columns')\n",
    "mlst_df['hisD'] = mlst_df['hisD'].apply(lambda x: re.sub('[^0-9]','', x))\n",
    "mlst_df['hisD'] = pd.to_numeric(mlst_df['hisD'])\n",
    "mlst_df.head(5)"
   ]
  },
  {
   "cell_type": "code",
   "execution_count": 149,
   "metadata": {},
   "outputs": [],
   "source": [
    "from skbio import DistanceMatrix\n",
    "from skbio.tree import nj\n",
    "\n",
    "from sklearn.metrics import pairwise_distances\n",
    "\n",
    "mlst_distances = pairwise_distances(mlst_df, metric='hamming')\n",
    "matrix = DistanceMatrix(mlst_distances, mlst_df.index)\n",
    "\n",
    "nj_tree = nj(matrix, result_constructor=str)\n",
    "with open('mlst-tree.txt', 'w') as f:\n",
    "    f.write(nj_tree)"
   ]
  },
  {
   "cell_type": "code",
   "execution_count": 150,
   "metadata": {},
   "outputs": [
    {
     "name": "stdout",
     "output_type": "stream",
     "text": [
      "(SH14-027:0.000000, (SH14-026:0.000000, (SH14-025:0.000000, (SH14-024:0.000000, (SH14-023:0.000000, (SH14-022:0.000000, (SH14-020:0.000000, (SH14-019:0.000000, (SH14-017:0.000000, (SH14-016:0.000000, (SH14-015:0.000000, (SH14-014:0.000000, (SH14-013:0.000000, (SH14-012:0.000000, (SH14-011:0.000000, (SH14-010:0.000000, (SH14-009:0.000000, (SH14-008:0.000000, (SH14-007:0.000000, (SH14-006:0.000000, (SH14-005:0.000000, (SH14-004:0.000000, (SH14-003:0.000000, (SH14-002:0.000000, (SH14-001:0.000000, (SH13-008:0.000000, (SH13-007:0.000000, (SH13-006:0.000000, (SH13-005:0.000000, (SH13-004:0.000000, (SH13-003:0.000000, (SH13-002:0.000000, (SH13-001:0.000000, (SH12-014:0.000000, (SH12-013:0.000000, (SH12-011:0.000000, (SH12-010:0.000000, (SH12-009:0.000000, (SH12-008:0.000000, (SH12-007:0.000000, (SH12-006:0.000000, (SH12-005:0.000000, (SH12-004:0.000000, (SH12-003:0.000000, (SH12-002:0.000000, (SH12-001:0.000000, (SH11-002:0.000000, (SH11-001:0.000000, (SH10-30:0.000000, (SH10-015:0.000000, (SH10-014:0.000000, (SH10-002:0.000000, ((SH14-021:0.000000, (SH14-018:0.000000, SH12-012:0.000000):0.000000):0.142857, (SH10-001:0.000000, (SH09-29:0.000000, SH08-001:0.000000):0.000000):0.000000):0.000000):0.000000):0.000000):0.000000):0.000000):0.000000):0.000000):0.000000):0.000000):0.000000):0.000000):0.000000):0.000000):0.000000):0.000000):0.000000):0.000000):0.000000):0.000000):0.000000):0.000000):0.000000):0.000000):0.000000):0.000000):0.000000):0.000000):0.000000):0.000000):0.000000):0.000000):0.000000):0.000000):0.000000):0.000000):0.000000):0.000000):0.000000):0.000000):0.000000):0.000000):0.000000):0.000000):0.000000):0.000000):0.000000):0.000000):0.000000):0.000000):0.000000):0.000000):0.000000, SH14-028:0.000000);"
     ]
    }
   ],
   "source": [
    "!cat mlst-tree.txt"
   ]
  },
  {
   "cell_type": "markdown",
   "metadata": {},
   "source": [
    "## SISTR MLST"
   ]
  },
  {
   "cell_type": "code",
   "execution_count": 8,
   "metadata": {},
   "outputs": [
    {
     "name": "stdout",
     "output_type": "stream",
     "text": [
      "sistr_cmd 1.1.1\n",
      "\n"
     ]
    }
   ],
   "source": [
    "!conda run --prefix /home/CSCScience.ca/apetkau/miniconda3/envs/sistr sistr --version"
   ]
  },
  {
   "cell_type": "code",
   "execution_count": 10,
   "metadata": {},
   "outputs": [
    {
     "name": "stdout",
     "output_type": "stream",
     "text": [
      "2020-11-24 20:36:18,836 ERROR: Too many gapped sites in extracted allele seq for marker NZ_AOXE01000053.1_166 contained 23 gaps out of 216 bp (0.10648148148148148 > 0.05); stitle: Contig_52_34.4027 [in /home/CSCScience.ca/apetkau/miniconda3/envs/sistr/lib/python3.8/site-packages/sistr/src/cgmlst/__init__.py:162]\n",
      "2020-11-24 20:36:18,840 ERROR: Missing cgmlst_results for NZ_AOXE01000053.1_166 [in /home/CSCScience.ca/apetkau/miniconda3/envs/sistr/lib/python3.8/site-packages/sistr/src/cgmlst/__init__.py:361]\n",
      "2020-11-24 20:36:24,936 ERROR: Too many gapped sites in extracted allele seq for marker NZ_AOXE01000041.1_73 contained 162 gaps out of 429 bp (0.3776223776223776 > 0.05); stitle: Contig_37_35.8908 [in /home/CSCScience.ca/apetkau/miniconda3/envs/sistr/lib/python3.8/site-packages/sistr/src/cgmlst/__init__.py:162]\n",
      "2020-11-24 20:36:24,945 ERROR: Missing cgmlst_results for NZ_AOXE01000041.1_73 [in /home/CSCScience.ca/apetkau/miniconda3/envs/sistr/lib/python3.8/site-packages/sistr/src/cgmlst/__init__.py:361]\n",
      "2020-11-24 20:36:25,651 ERROR: Too many gapped sites in extracted allele seq for marker NZ_AOXE01000081.1_124 contained 242 gaps out of 1137 bp (0.21284080914687775 > 0.05); stitle: Contig_37_30.9401 [in /home/CSCScience.ca/apetkau/miniconda3/envs/sistr/lib/python3.8/site-packages/sistr/src/cgmlst/__init__.py:162]\n",
      "2020-11-24 20:36:25,655 ERROR: Missing cgmlst_results for NZ_AOXE01000081.1_124 [in /home/CSCScience.ca/apetkau/miniconda3/envs/sistr/lib/python3.8/site-packages/sistr/src/cgmlst/__init__.py:361]\n",
      "2020-11-24 20:36:25,969 ERROR: Too many gapped sites in extracted allele seq for marker NZ_AOXE01000072.1_100 contained 197 gaps out of 498 bp (0.39558232931726905 > 0.05); stitle: Contig_77_24.655 [in /home/CSCScience.ca/apetkau/miniconda3/envs/sistr/lib/python3.8/site-packages/sistr/src/cgmlst/__init__.py:162]\n",
      "2020-11-24 20:36:25,979 ERROR: Missing cgmlst_results for NZ_AOXE01000072.1_100 [in /home/CSCScience.ca/apetkau/miniconda3/envs/sistr/lib/python3.8/site-packages/sistr/src/cgmlst/__init__.py:361]\n",
      "\n"
     ]
    }
   ],
   "source": [
    "!conda run --prefix /home/CSCScience.ca/apetkau/miniconda3/envs/sistr \\\n",
    "sistr -f csv -o sistr-prediction.csv -p sistr-profiles.csv --use-full-cgmlst-db -m --qc -t 48 ../assemblies/*.fasta"
   ]
  },
  {
   "cell_type": "code",
   "execution_count": 74,
   "metadata": {},
   "outputs": [
    {
     "name": "stdout",
     "output_type": "stream",
     "text": [
      ",NZ_AOXE01000059.1_60,NZ_AOXE01000019.1_14,NZ_AOXE01000085.1_58\n",
      "SH08-001,3009296265,1560521952,3999802771\n",
      "SH09-29,3009296265,1560521952,3999802771\n",
      "SH10-001,3009296265,1560521952,3999802771\n",
      "SH10-002,3009296265,1560521952,3999802771\n",
      "SH10-014,3009296265,1560521952,3999802771\n",
      "SH10-015,3009296265,1560521952,3999802771\n",
      "SH10-30,3009296265,1560521952,3999802771\n",
      "SH11-001,3009296265,1560521952,3999802771\n",
      "SH11-002,3009296265,1560521952,3999802771\n"
     ]
    }
   ],
   "source": [
    "!head sistr-profiles.csv | cut -f 1,2,3,4 -d ','"
   ]
  },
  {
   "cell_type": "markdown",
   "metadata": {},
   "source": [
    "## Phylogenetic tree (neighbor-joining from hamming distances)"
   ]
  },
  {
   "cell_type": "code",
   "execution_count": 151,
   "metadata": {},
   "outputs": [
    {
     "data": {
      "text/html": [
       "<div>\n",
       "<style scoped>\n",
       "    .dataframe tbody tr th:only-of-type {\n",
       "        vertical-align: middle;\n",
       "    }\n",
       "\n",
       "    .dataframe tbody tr th {\n",
       "        vertical-align: top;\n",
       "    }\n",
       "\n",
       "    .dataframe thead th {\n",
       "        text-align: right;\n",
       "    }\n",
       "</style>\n",
       "<table border=\"1\" class=\"dataframe\">\n",
       "  <thead>\n",
       "    <tr style=\"text-align: right;\">\n",
       "      <th></th>\n",
       "      <th>NZ_AOXE01000059.1_60</th>\n",
       "      <th>NZ_AOXE01000019.1_14</th>\n",
       "      <th>NZ_AOXE01000085.1_58</th>\n",
       "      <th>NZ_AOXE01000034.1_134</th>\n",
       "      <th>NZ_AOXE01000059.1_129</th>\n",
       "      <th>NZ_AOXE01000047.1_56</th>\n",
       "      <th>NZ_AOXE01000040.1_19</th>\n",
       "      <th>NZ_AOXE01000059.1_42</th>\n",
       "      <th>NZ_AOXE01000085.1_34</th>\n",
       "      <th>NZ_AOXE01000059.1_32</th>\n",
       "      <th>...</th>\n",
       "      <th>NZ_AOYX01000060.1_42</th>\n",
       "      <th>NZ_AOXE01000036.1_3</th>\n",
       "      <th>NZ_AOXE01000073.1_79</th>\n",
       "      <th>NZ_AOXE01000035.1_13</th>\n",
       "      <th>NZ_AOXE01000077.1_33</th>\n",
       "      <th>NZ_AOYX01000009.1_43</th>\n",
       "      <th>NC_011149.1_467</th>\n",
       "      <th>NZ_AOXE01000059.1_333</th>\n",
       "      <th>NZ_AOXE01000041.1_85</th>\n",
       "      <th>NZ_AOXE01000041.1_84</th>\n",
       "    </tr>\n",
       "  </thead>\n",
       "  <tbody>\n",
       "    <tr>\n",
       "      <th>SH08-001</th>\n",
       "      <td>3009296265</td>\n",
       "      <td>1560521952</td>\n",
       "      <td>3999802771</td>\n",
       "      <td>2059544131</td>\n",
       "      <td>4289483219</td>\n",
       "      <td>846800793</td>\n",
       "      <td>1307681507</td>\n",
       "      <td>943409602</td>\n",
       "      <td>2823279989</td>\n",
       "      <td>3821831313</td>\n",
       "      <td>...</td>\n",
       "      <td>486088087</td>\n",
       "      <td>1436385457</td>\n",
       "      <td>4293917942</td>\n",
       "      <td>4178717449</td>\n",
       "      <td>4213771231</td>\n",
       "      <td>1671956993</td>\n",
       "      <td>161888011</td>\n",
       "      <td>629769704</td>\n",
       "      <td>708436169</td>\n",
       "      <td>551814723</td>\n",
       "    </tr>\n",
       "    <tr>\n",
       "      <th>SH09-29</th>\n",
       "      <td>3009296265</td>\n",
       "      <td>1560521952</td>\n",
       "      <td>3999802771</td>\n",
       "      <td>2059544131</td>\n",
       "      <td>4289483219</td>\n",
       "      <td>846800793</td>\n",
       "      <td>1307681507</td>\n",
       "      <td>943409602</td>\n",
       "      <td>2823279989</td>\n",
       "      <td>3821831313</td>\n",
       "      <td>...</td>\n",
       "      <td>486088087</td>\n",
       "      <td>1436385457</td>\n",
       "      <td>4293917942</td>\n",
       "      <td>4178717449</td>\n",
       "      <td>4213771231</td>\n",
       "      <td>1671956993</td>\n",
       "      <td>161888011</td>\n",
       "      <td>629769704</td>\n",
       "      <td>708436169</td>\n",
       "      <td>551814723</td>\n",
       "    </tr>\n",
       "    <tr>\n",
       "      <th>SH10-001</th>\n",
       "      <td>3009296265</td>\n",
       "      <td>1560521952</td>\n",
       "      <td>3999802771</td>\n",
       "      <td>2059544131</td>\n",
       "      <td>4289483219</td>\n",
       "      <td>846800793</td>\n",
       "      <td>1307681507</td>\n",
       "      <td>943409602</td>\n",
       "      <td>2823279989</td>\n",
       "      <td>3821831313</td>\n",
       "      <td>...</td>\n",
       "      <td>486088087</td>\n",
       "      <td>1436385457</td>\n",
       "      <td>4293917942</td>\n",
       "      <td>4178717449</td>\n",
       "      <td>4213771231</td>\n",
       "      <td>1671956993</td>\n",
       "      <td>161888011</td>\n",
       "      <td>629769704</td>\n",
       "      <td>708436169</td>\n",
       "      <td>551814723</td>\n",
       "    </tr>\n",
       "    <tr>\n",
       "      <th>SH10-002</th>\n",
       "      <td>3009296265</td>\n",
       "      <td>1560521952</td>\n",
       "      <td>3999802771</td>\n",
       "      <td>2059544131</td>\n",
       "      <td>4289483219</td>\n",
       "      <td>846800793</td>\n",
       "      <td>1307681507</td>\n",
       "      <td>943409602</td>\n",
       "      <td>2823279989</td>\n",
       "      <td>3821831313</td>\n",
       "      <td>...</td>\n",
       "      <td>486088087</td>\n",
       "      <td>1436385457</td>\n",
       "      <td>4293917942</td>\n",
       "      <td>4178717449</td>\n",
       "      <td>4213771231</td>\n",
       "      <td>1671956993</td>\n",
       "      <td>161888011</td>\n",
       "      <td>629769704</td>\n",
       "      <td>708436169</td>\n",
       "      <td>551814723</td>\n",
       "    </tr>\n",
       "    <tr>\n",
       "      <th>SH10-014</th>\n",
       "      <td>3009296265</td>\n",
       "      <td>1560521952</td>\n",
       "      <td>3999802771</td>\n",
       "      <td>2059544131</td>\n",
       "      <td>4289483219</td>\n",
       "      <td>846800793</td>\n",
       "      <td>1307681507</td>\n",
       "      <td>943409602</td>\n",
       "      <td>2823279989</td>\n",
       "      <td>3821831313</td>\n",
       "      <td>...</td>\n",
       "      <td>486088087</td>\n",
       "      <td>1436385457</td>\n",
       "      <td>4293917942</td>\n",
       "      <td>4178717449</td>\n",
       "      <td>4213771231</td>\n",
       "      <td>1671956993</td>\n",
       "      <td>161888011</td>\n",
       "      <td>629769704</td>\n",
       "      <td>708436169</td>\n",
       "      <td>551814723</td>\n",
       "    </tr>\n",
       "  </tbody>\n",
       "</table>\n",
       "<p>5 rows × 330 columns</p>\n",
       "</div>"
      ],
      "text/plain": [
       "          NZ_AOXE01000059.1_60  NZ_AOXE01000019.1_14  NZ_AOXE01000085.1_58  \\\n",
       "SH08-001            3009296265            1560521952            3999802771   \n",
       "SH09-29             3009296265            1560521952            3999802771   \n",
       "SH10-001            3009296265            1560521952            3999802771   \n",
       "SH10-002            3009296265            1560521952            3999802771   \n",
       "SH10-014            3009296265            1560521952            3999802771   \n",
       "\n",
       "          NZ_AOXE01000034.1_134  NZ_AOXE01000059.1_129  NZ_AOXE01000047.1_56  \\\n",
       "SH08-001             2059544131             4289483219             846800793   \n",
       "SH09-29              2059544131             4289483219             846800793   \n",
       "SH10-001             2059544131             4289483219             846800793   \n",
       "SH10-002             2059544131             4289483219             846800793   \n",
       "SH10-014             2059544131             4289483219             846800793   \n",
       "\n",
       "          NZ_AOXE01000040.1_19  NZ_AOXE01000059.1_42  NZ_AOXE01000085.1_34  \\\n",
       "SH08-001            1307681507             943409602            2823279989   \n",
       "SH09-29             1307681507             943409602            2823279989   \n",
       "SH10-001            1307681507             943409602            2823279989   \n",
       "SH10-002            1307681507             943409602            2823279989   \n",
       "SH10-014            1307681507             943409602            2823279989   \n",
       "\n",
       "          NZ_AOXE01000059.1_32  ...  NZ_AOYX01000060.1_42  \\\n",
       "SH08-001            3821831313  ...             486088087   \n",
       "SH09-29             3821831313  ...             486088087   \n",
       "SH10-001            3821831313  ...             486088087   \n",
       "SH10-002            3821831313  ...             486088087   \n",
       "SH10-014            3821831313  ...             486088087   \n",
       "\n",
       "          NZ_AOXE01000036.1_3  NZ_AOXE01000073.1_79  NZ_AOXE01000035.1_13  \\\n",
       "SH08-001           1436385457            4293917942            4178717449   \n",
       "SH09-29            1436385457            4293917942            4178717449   \n",
       "SH10-001           1436385457            4293917942            4178717449   \n",
       "SH10-002           1436385457            4293917942            4178717449   \n",
       "SH10-014           1436385457            4293917942            4178717449   \n",
       "\n",
       "          NZ_AOXE01000077.1_33  NZ_AOYX01000009.1_43  NC_011149.1_467  \\\n",
       "SH08-001            4213771231            1671956993        161888011   \n",
       "SH09-29             4213771231            1671956993        161888011   \n",
       "SH10-001            4213771231            1671956993        161888011   \n",
       "SH10-002            4213771231            1671956993        161888011   \n",
       "SH10-014            4213771231            1671956993        161888011   \n",
       "\n",
       "          NZ_AOXE01000059.1_333  NZ_AOXE01000041.1_85  NZ_AOXE01000041.1_84  \n",
       "SH08-001              629769704             708436169             551814723  \n",
       "SH09-29               629769704             708436169             551814723  \n",
       "SH10-001              629769704             708436169             551814723  \n",
       "SH10-002              629769704             708436169             551814723  \n",
       "SH10-014              629769704             708436169             551814723  \n",
       "\n",
       "[5 rows x 330 columns]"
      ]
     },
     "execution_count": 151,
     "metadata": {},
     "output_type": "execute_result"
    }
   ],
   "source": [
    "import pandas as pd\n",
    "import re\n",
    "\n",
    "sistr_df = pd.read_csv('sistr-profiles.csv', sep=',', index_col=0).fillna(-1).astype('int64')\n",
    "sistr_df.head(5)"
   ]
  },
  {
   "cell_type": "code",
   "execution_count": 152,
   "metadata": {},
   "outputs": [],
   "source": [
    "from skbio import DistanceMatrix\n",
    "from skbio.tree import nj\n",
    "\n",
    "from sklearn.metrics import pairwise_distances\n",
    "\n",
    "sistr_distances = pairwise_distances(sistr_df, metric='hamming')\n",
    "sistr_distances\n",
    "matrix = DistanceMatrix(sistr_distances, sistr_df.index)\n",
    "\n",
    "nj_tree = nj(matrix, result_constructor=str)\n",
    "nj_tree\n",
    "with open('sistr-tree.txt', 'w') as f:\n",
    "    f.write(nj_tree)"
   ]
  },
  {
   "cell_type": "code",
   "execution_count": 153,
   "metadata": {},
   "outputs": [
    {
     "name": "stdout",
     "output_type": "stream",
     "text": [
      "((SH14-025:0.000000, (SH14-022:0.000000, (SH14-019:0.000000, (SH14-016:0.000000, (SH14-012:0.000000, (SH14-009:0.000000, (SH14-006:0.000000, (SH14-003:0.000000, (SH12-011:0.000000, (SH12-005:0.000000, (SH11-001:0.000000, (SH12-014:0.003030, (SH12-010:0.003030, SH12-003:0.003030):0.000000):0.000000):0.000000):0.000000):0.000000):0.000000):0.000000):0.000000):0.000000):0.000000):0.000000):0.000000):0.000000, ((SH14-026:0.000000, (SH14-024:0.000000, (SH14-020:0.000000, (SH14-018:0.000000, (SH14-014:0.000000, (SH14-011:0.000000, (SH14-007:0.000000, (SH14-005:0.000000, (SH14-001:0.000000, (SH12-009:0.000000, (SH12-001:0.000000, ((SH12-012:0.001515, SH10-30:0.004545):0.001515, (SH10-002:0.003030, (SH12-007:0.000000, SH12-002:0.000000):0.003030):0.000000):0.000000):0.000000):0.000000):0.000000):0.000000):0.000000):0.000000):0.000000):0.000000):0.000000):0.000000):0.000000, (SH14-027:0.000000, (SH14-023:0.000000, (SH14-021:0.000000, (SH14-017:0.000000, (SH14-015:0.000000, (SH14-010:0.000000, (SH14-008:0.000000, (SH14-004:0.000000, (SH14-002:0.000000, (SH12-008:0.000000, (SH12-004:0.000000, (SH10-001:0.000000, ((SH09-29:0.000000, SH08-001:0.000000):0.000000, ((SH12-013:0.019697, SH12-006:0.001515):0.001515, (SH14-013:0.002273, (SH13-005:0.002999, (SH13-008:0.000000, (SH13-007:0.000000, (SH13-006:0.000000, (SH13-004:0.000000, (SH13-003:0.000000, (SH13-002:0.000000, (SH13-001:0.000000, (SH11-002:0.000000, (SH10-015:0.000000, SH10-014:0.000000):0.000000):0.000000):0.000000):0.000000):0.000000):0.000000):0.000000):0.000000):0.000032):0.011364):0.000758):0.000000):0.000000):0.000000):0.000000):0.000000):0.000000):0.000000):0.000000):0.000000):0.000000):0.000000):0.000000):0.000000):0.000000):0.000000, SH14-028:0.000000);"
     ]
    }
   ],
   "source": [
    "!head sistr-tree.txt"
   ]
  },
  {
   "cell_type": "markdown",
   "metadata": {},
   "source": [
    "# Extras"
   ]
  },
  {
   "cell_type": "code",
   "execution_count": 147,
   "metadata": {},
   "outputs": [
    {
     "data": {
      "text/plain": [
       "array([0, 0, 0, 0, 0, 0, 0, 0, 0, 0, 0, 0, 0, 0, 0, 0, 0, 0, 0, 0, 0, 0,\n",
       "       0, 0, 0, 0, 0, 0, 0, 0, 0, 0, 0, 0, 0, 0, 0, 0, 0, 0, 0, 0, 0, 0,\n",
       "       0, 0, 0, 0, 0, 0, 0, 0, 0, 0, 0, 0, 0, 0, 0])"
      ]
     },
     "execution_count": 147,
     "metadata": {},
     "output_type": "execute_result"
    }
   ],
   "source": [
    "from sklearn.cluster import AgglomerativeClustering\n",
    "from sklearn.metrics import pairwise_distances\n",
    "\n",
    "mlst_distances = pairwise_distances(mlst_df, metric='hamming')\n",
    "\n",
    "clustering = AgglomerativeClustering(n_clusters=None,\n",
    "                                    affinity='precomputed',\n",
    "                                    compute_full_tree=True,\n",
    "                                    linkage='single',\n",
    "                                    distance_threshold=1000,\n",
    "                                    ).fit(mlst_distances)\n",
    "\n",
    "clustering.labels_"
   ]
  }
 ],
 "metadata": {
  "kernelspec": {
   "display_name": "Python 3",
   "language": "python",
   "name": "python3"
  },
  "language_info": {
   "codemirror_mode": {
    "name": "ipython",
    "version": 3
   },
   "file_extension": ".py",
   "mimetype": "text/x-python",
   "name": "python",
   "nbconvert_exporter": "python",
   "pygments_lexer": "ipython3",
   "version": "3.8.5"
  }
 },
 "nbformat": 4,
 "nbformat_minor": 4
}
